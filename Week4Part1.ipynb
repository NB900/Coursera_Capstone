{
 "cells": [
  {
   "cell_type": "markdown",
   "metadata": {},
   "source": [
    "# Introduction/Business Problem "
   ]
  },
  {
   "cell_type": "markdown",
   "metadata": {
    "collapsed": true
   },
   "source": [
    "Vegan or vegetarian diet is the latest trend in restaurant industry.\n",
    "As the inclination of people towards plant based diet is increasing, the demand for vegan or vegetarian restaurants is rising.\n",
    "There are few vegan or vegetarian restaurants available but there is still a big void to fill.\n",
    "This project will help bridge this gap. The audience of this project will be the people who want to open a restaurant in Toronto. This project will help them by providing them the area names where there is high potential for a vegan or vegetarian restaurant to succeed. \n"
   ]
  },
  {
   "cell_type": "markdown",
   "metadata": {},
   "source": [
    "# Data"
   ]
  },
  {
   "cell_type": "markdown",
   "metadata": {
    "collapsed": true
   },
   "source": [
    "In this project we will use the Foursquare location data to search for vegan or vegetarian restaurants in Toronto. We will then get different neighborhoods of Toronto using the data from Wikipedia. After getting  the neighborhoods data we will use this data to get the number of vegan or vegetarian restaurants in different neighborhoods of Toronto. Thereafter, we will compare the neighborhoods to find the ones with the least number of vegan or vegetarian restaurants. Finally, we will suggest the user the best places to open vegan or vegetarian restaurants in Toronto. For example, if \"Harbourfront, Regent Park\" has 60 vegan or vegetarian restaurants but \"Central Bay Street\" has 10 vegan or vegetarian restaurants, then \"Central Bay Street\" could be a possible suggestion.\n",
    "\n",
    "Link to Wikipedia file: 'https://en.wikipedia.org/wiki/List_of_postal_codes_of_Canada:_M'.\n"
   ]
  },
  {
   "cell_type": "code",
   "execution_count": null,
   "metadata": {
    "collapsed": true
   },
   "outputs": [],
   "source": []
  }
 ],
 "metadata": {
  "kernelspec": {
   "display_name": "Python 3",
   "language": "python",
   "name": "python3"
  },
  "language_info": {
   "codemirror_mode": {
    "name": "ipython",
    "version": 3
   },
   "file_extension": ".py",
   "mimetype": "text/x-python",
   "name": "python",
   "nbconvert_exporter": "python",
   "pygments_lexer": "ipython3",
   "version": "3.6.3"
  }
 },
 "nbformat": 4,
 "nbformat_minor": 2
}
